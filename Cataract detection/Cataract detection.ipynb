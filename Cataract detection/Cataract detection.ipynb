{
 "cells": [
  {
   "attachments": {},
   "cell_type": "markdown",
   "metadata": {},
   "source": [
    "<h1><center>Cataract detection with Deep Learning</center></h1>\n",
    "\n",
    "<center>By Mateo Stipaničić<center>\n",
    "\n",
    "<center>April 2023<center>\n",
    "\n",
    "<br>\n",
    "\n",
    "___"
   ]
  },
  {
   "attachments": {},
   "cell_type": "markdown",
   "metadata": {},
   "source": [
    "## Project outline\n",
    "\n",
    "### Data sources, task and method\n",
    "\n",
    "> __Data sources__: The dataset for this project was extracted from Kaggle (specifically, https://www.kaggle.com/datasets/nandanp6/cataract-image-dataset), an online ML and Data Science community.\n",
    "\n",
    "> __Task__: Create a cataract detection algorithm. The idea is to, given an eye image, predict the existence of cataract disease. The problem is posed as supervised learning.\n",
    "\n",
    ">__Method__: This project will be approached solely with deep learning methods (namely, neural networks). The problem is posed as a classification model. \n",
    "\n",
    ">__Tools__: Programming language will be Python and frameworks to be used include Pandas, NumPy, Scikit-Learn, Seaborn.\n"
   ]
  },
  {
   "attachments": {},
   "cell_type": "markdown",
   "metadata": {},
   "source": [
    "### Metric discussion and selection\n",
    "\n",
    "#### Availability of Human-level performance\n",
    "\n",
    "Human-level performance can provide a baseline of required performance.\n",
    "\n",
    "___"
   ]
  },
  {
   "attachments": {},
   "cell_type": "markdown",
   "metadata": {},
   "source": [
    "## Exploratory Data Analysis\n",
    "\n",
    "> The objective of this section is to profoundly analyze the dataset in question. Machine learning models are as good as the data they are trained on.\n",
    "\n",
    "### Initial dataset understanding\n",
    "\n",
    "The dataset is pre-processed from the source, to the point there is a train-test split. "
   ]
  },
  {
   "cell_type": "code",
   "execution_count": null,
   "metadata": {},
   "outputs": [],
   "source": [
    "# Imports"
   ]
  },
  {
   "attachments": {},
   "cell_type": "markdown",
   "metadata": {},
   "source": [
    "### Variable definition and exploration"
   ]
  },
  {
   "cell_type": "code",
   "execution_count": null,
   "metadata": {},
   "outputs": [],
   "source": []
  },
  {
   "attachments": {},
   "cell_type": "markdown",
   "metadata": {},
   "source": [
    "### Data cleaning\n",
    "\n",
    "#### Null values and data quality"
   ]
  },
  {
   "attachments": {},
   "cell_type": "markdown",
   "metadata": {},
   "source": [
    "#### Outlier identification"
   ]
  },
  {
   "attachments": {},
   "cell_type": "markdown",
   "metadata": {},
   "source": [
    "### Relationships between variables"
   ]
  }
 ],
 "metadata": {
  "kernelspec": {
   "display_name": "machine-learning",
   "language": "python",
   "name": "python3"
  },
  "language_info": {
   "codemirror_mode": {
    "name": "ipython",
    "version": 3
   },
   "file_extension": ".py",
   "mimetype": "text/x-python",
   "name": "python",
   "nbconvert_exporter": "python",
   "pygments_lexer": "ipython3",
   "version": "3.9.13"
  },
  "orig_nbformat": 4
 },
 "nbformat": 4,
 "nbformat_minor": 2
}
