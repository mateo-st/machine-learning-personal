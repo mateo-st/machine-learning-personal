{
 "cells": [
  {
   "attachments": {},
   "cell_type": "markdown",
   "metadata": {},
   "source": [
    "<h1><center>Music Genre Classifier</center></h1>\n",
    "\n",
    "<center>By Mateo Stipaničić<center>\n",
    "\n",
    "<center>April 2023<center>\n",
    "\n",
    "<br>\n",
    "\n",
    "___"
   ]
  },
  {
   "attachments": {},
   "cell_type": "markdown",
   "metadata": {},
   "source": [
    "## Project outline\n",
    "\n",
    "### Data sources, task and method\n",
    "\n",
    "> __Data sources__: The dataset for this project was extracted from Kaggle (specifically, https://www.kaggle.com/datasets/harish24/music-genre-classification?resource=download), an online ML and Data Science community.\n",
    "\n",
    "> __Task__: Create a music genre classifier. The idea is to, given a tuple of audio indicators and sound frequency coefficients associated to a song, predict the song's genre.\n",
    "\n",
    ">__Method__: This project will be approached solely with machine learning methods (namely, no neural networks). The problem is posed as a classification model.\n",
    "\n",
    ">__Tools__: Programming language will be Python and frameworks to be used include Pandas, NumPy, Scikit-Learn, Seaborn.\n",
    "\n",
    "### Metric discussion and selection\n",
    "\n",
    "\n",
    "\n",
    "___"
   ]
  },
  {
   "cell_type": "code",
   "execution_count": null,
   "metadata": {},
   "outputs": [],
   "source": []
  },
  {
   "attachments": {},
   "cell_type": "markdown",
   "metadata": {},
   "source": [
    "## Exploratory Data Analysis\n",
    "\n",
    "> The objective of this section is to profoundly analyze the dataset in question. Machine learning models are as good as the data they are trained on.\n",
    "\n",
    "### Initial dataset understanding"
   ]
  },
  {
   "cell_type": "code",
   "execution_count": null,
   "metadata": {},
   "outputs": [],
   "source": []
  },
  {
   "attachments": {},
   "cell_type": "markdown",
   "metadata": {},
   "source": [
    "### Variable definition and exploration"
   ]
  },
  {
   "cell_type": "code",
   "execution_count": null,
   "metadata": {},
   "outputs": [],
   "source": []
  },
  {
   "attachments": {},
   "cell_type": "markdown",
   "metadata": {},
   "source": [
    "### Data cleaning\n",
    "\n",
    "#### Null values and data quality"
   ]
  },
  {
   "attachments": {},
   "cell_type": "markdown",
   "metadata": {},
   "source": [
    "#### Outlier identification"
   ]
  },
  {
   "attachments": {},
   "cell_type": "markdown",
   "metadata": {},
   "source": [
    "### Relationships between variables"
   ]
  }
 ],
 "metadata": {
  "kernelspec": {
   "display_name": "machine-learning",
   "language": "python",
   "name": "python3"
  },
  "language_info": {
   "codemirror_mode": {
    "name": "ipython",
    "version": 3
   },
   "file_extension": ".py",
   "mimetype": "text/x-python",
   "name": "python",
   "nbconvert_exporter": "python",
   "pygments_lexer": "ipython3",
   "version": "3.9.13"
  },
  "orig_nbformat": 4
 },
 "nbformat": 4,
 "nbformat_minor": 2
}
